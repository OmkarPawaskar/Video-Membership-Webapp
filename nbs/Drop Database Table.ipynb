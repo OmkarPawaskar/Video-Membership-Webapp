{
 "cells": [
  {
   "cell_type": "code",
   "execution_count": 1,
   "id": "53a80a68",
   "metadata": {},
   "outputs": [
    {
     "name": "stdout",
     "output_type": "stream",
     "text": [
      "E:\\PROJECTS\\Video Membership App\\Video-Membership-Webapp\n"
     ]
    }
   ],
   "source": [
    "cd .. \n"
   ]
  },
  {
   "cell_type": "code",
   "execution_count": 2,
   "id": "ddb2e851",
   "metadata": {},
   "outputs": [],
   "source": [
    "from app import db,config\n",
    "from app.watch_events.models import WatchEvent"
   ]
  },
  {
   "cell_type": "code",
   "execution_count": 3,
   "id": "2468e036",
   "metadata": {},
   "outputs": [],
   "source": [
    "session = db.get_session()"
   ]
  },
  {
   "cell_type": "code",
   "execution_count": 4,
   "id": "20cc340e",
   "metadata": {},
   "outputs": [],
   "source": [
    "settings = db.get_settings()"
   ]
  },
  {
   "cell_type": "code",
   "execution_count": 5,
   "id": "07d6f892",
   "metadata": {},
   "outputs": [],
   "source": [
    "keyspace = settings.keyspace"
   ]
  },
  {
   "cell_type": "code",
   "execution_count": 17,
   "id": "6f60895e",
   "metadata": {},
   "outputs": [
    {
     "name": "stdout",
     "output_type": "stream",
     "text": [
      "{'host_id': 'nOMIwsupy9k', 'event_id': UUID('144c60b8-781b-11ec-9b35-088fc304d5ee'), 'user_id': UUID('4f8e6bde-7056-11ec-90e6-90ccdf07a52a'), 'complete': False, 'duration': 500.0, 'end_time': 150.152294, 'path': None, 'start_time': 0.0}\n",
      "{'host_id': 'nOMIwsupy9k', 'event_id': UUID('12b67ea0-781b-11ec-a81c-088fc304d5ee'), 'user_id': UUID('4f8e6bde-7056-11ec-90e6-90ccdf07a52a'), 'complete': False, 'duration': 500.0, 'end_time': 148.93506493506493, 'path': None, 'start_time': 0.0}\n",
      "{'host_id': 'nOMIwsupy9k', 'event_id': UUID('10975c1f-781b-11ec-b1b7-088fc304d5ee'), 'user_id': UUID('4f8e6bde-7056-11ec-90e6-90ccdf07a52a'), 'complete': False, 'duration': 500.0, 'end_time': 87.12466008773804, 'path': None, 'start_time': 0.0}\n",
      "{'host_id': 'nOMIwsupy9k', 'event_id': UUID('0d1aa20e-781b-11ec-9cac-088fc304d5ee'), 'user_id': UUID('4f8e6bde-7056-11ec-90e6-90ccdf07a52a'), 'complete': False, 'duration': 500.0, 'end_time': 81.91428571428571, 'path': None, 'start_time': 0.0}\n",
      "{'host_id': 'nOMIwsupy9k', 'event_id': UUID('0cef6765-781b-11ec-a603-088fc304d5ee'), 'user_id': UUID('4f8e6bde-7056-11ec-90e6-90ccdf07a52a'), 'complete': False, 'duration': 500.0, 'end_time': 5.106039127792358, 'path': None, 'start_time': 0.0}\n"
     ]
    }
   ],
   "source": [
    "q = WatchEvent.objects.all()\n",
    "query_str = str(q._select_query())\n",
    "query_str\n",
    "q_r = session.execute(query_str)\n",
    "for item in q_r.all():\n",
    "    print(item)"
   ]
  },
  {
   "cell_type": "code",
   "execution_count": 6,
   "id": "05b9ecb8",
   "metadata": {},
   "outputs": [],
   "source": [
    "# model_name = \"WatchEventAbc\" -> watch_event_abc\n",
    "model_name = \"watch_event\""
   ]
  },
  {
   "cell_type": "code",
   "execution_count": 7,
   "id": "ab84e32d",
   "metadata": {},
   "outputs": [
    {
     "data": {
      "text/plain": [
       "'DROP TABLE IF EXISTS video_membership_project.watch_event'"
      ]
     },
     "execution_count": 7,
     "metadata": {},
     "output_type": "execute_result"
    }
   ],
   "source": [
    "cmd = f\"DROP TABLE IF EXISTS {keyspace}.{model_name}\"\n",
    "cmd"
   ]
  },
  {
   "cell_type": "code",
   "execution_count": 10,
   "id": "7eb731bf",
   "metadata": {},
   "outputs": [
    {
     "data": {
      "text/plain": [
       "<cassandra.cluster.ResultSet at 0x2a492ef9880>"
      ]
     },
     "execution_count": 10,
     "metadata": {},
     "output_type": "execute_result"
    }
   ],
   "source": [
    "q = session.execute(cmd)\n",
    "q"
   ]
  },
  {
   "cell_type": "code",
   "execution_count": 11,
   "id": "01d559d1",
   "metadata": {},
   "outputs": [
    {
     "data": {
      "text/plain": [
       "['__bool__',\n",
       " '__class__',\n",
       " '__delattr__',\n",
       " '__dict__',\n",
       " '__dir__',\n",
       " '__doc__',\n",
       " '__eq__',\n",
       " '__format__',\n",
       " '__ge__',\n",
       " '__getattribute__',\n",
       " '__getitem__',\n",
       " '__gt__',\n",
       " '__hash__',\n",
       " '__init__',\n",
       " '__init_subclass__',\n",
       " '__iter__',\n",
       " '__le__',\n",
       " '__lt__',\n",
       " '__module__',\n",
       " '__ne__',\n",
       " '__new__',\n",
       " '__next__',\n",
       " '__nonzero__',\n",
       " '__reduce__',\n",
       " '__reduce_ex__',\n",
       " '__repr__',\n",
       " '__setattr__',\n",
       " '__sizeof__',\n",
       " '__str__',\n",
       " '__subclasshook__',\n",
       " '__weakref__',\n",
       " '_current_rows',\n",
       " '_enter_list_mode',\n",
       " '_fetch_all',\n",
       " '_list_mode',\n",
       " '_page_iter',\n",
       " '_set_current_rows',\n",
       " 'all',\n",
       " 'cancel_continuous_paging',\n",
       " 'column_names',\n",
       " 'column_types',\n",
       " 'current_rows',\n",
       " 'fetch_next_page',\n",
       " 'get_all_query_traces',\n",
       " 'get_query_trace',\n",
       " 'has_more_pages',\n",
       " 'next',\n",
       " 'one',\n",
       " 'paging_state',\n",
       " 'response_future',\n",
       " 'was_applied']"
      ]
     },
     "execution_count": 11,
     "metadata": {},
     "output_type": "execute_result"
    }
   ],
   "source": [
    "dir(q)"
   ]
  },
  {
   "cell_type": "code",
   "execution_count": 12,
   "id": "0d9bde92",
   "metadata": {},
   "outputs": [],
   "source": [
    "for item in q.all():\n",
    "    print(item)"
   ]
  },
  {
   "cell_type": "code",
   "execution_count": null,
   "id": "823dc559",
   "metadata": {},
   "outputs": [],
   "source": []
  }
 ],
 "metadata": {
  "kernelspec": {
   "display_name": "Python 3 (ipykernel)",
   "language": "python",
   "name": "python3"
  },
  "language_info": {
   "codemirror_mode": {
    "name": "ipython",
    "version": 3
   },
   "file_extension": ".py",
   "mimetype": "text/x-python",
   "name": "python",
   "nbconvert_exporter": "python",
   "pygments_lexer": "ipython3",
   "version": "3.9.6"
  }
 },
 "nbformat": 4,
 "nbformat_minor": 5
}
