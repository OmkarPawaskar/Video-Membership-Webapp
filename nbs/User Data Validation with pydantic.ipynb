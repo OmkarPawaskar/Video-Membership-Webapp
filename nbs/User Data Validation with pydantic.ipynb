{
 "cells": [
  {
   "cell_type": "code",
   "execution_count": 1,
   "id": "a12e2c9a",
   "metadata": {},
   "outputs": [
    {
     "name": "stdout",
     "output_type": "stream",
     "text": [
      "E:\\PROJECTS\\Video Membership App\\Video-Membership-Webapp\n"
     ]
    }
   ],
   "source": [
    "cd .."
   ]
  },
  {
   "cell_type": "code",
   "execution_count": 2,
   "id": "59ebe122",
   "metadata": {},
   "outputs": [],
   "source": [
    "from app import db\n",
    "from app.users.models import User\n",
    "from cassandra.cqlengine.management import sync_table"
   ]
  },
  {
   "cell_type": "code",
   "execution_count": 3,
   "id": "cc3ebf90",
   "metadata": {},
   "outputs": [],
   "source": [
    "db.get_session()\n",
    "sync_table(User)"
   ]
  },
  {
   "cell_type": "code",
   "execution_count": 16,
   "id": "bf5f89f5",
   "metadata": {},
   "outputs": [],
   "source": [
    "post_data = {\n",
    "    #\"email\" : \"test@abc\",\n",
    "    \"email\" : \"test@abc.com\",\n",
    "    \"password\" : \"Abcde\"\n",
    "} "
   ]
  },
  {
   "cell_type": "code",
   "execution_count": 23,
   "id": "070632e5",
   "metadata": {},
   "outputs": [],
   "source": [
    "from pydantic import BaseModel,EmailStr, SecretStr, validator"
   ]
  },
  {
   "cell_type": "code",
   "execution_count": 18,
   "id": "39fca764",
   "metadata": {},
   "outputs": [],
   "source": [
    "class UserLoginSchema(BaseModel):\n",
    "    email : EmailStr\n",
    "    password : SecretStr\n",
    "        "
   ]
  },
  {
   "cell_type": "code",
   "execution_count": 15,
   "id": "f85992f4",
   "metadata": {},
   "outputs": [
    {
     "ename": "ValidationError",
     "evalue": "1 validation error for UserLoginSchema\nemail\n  value is not a valid email address (type=value_error.email)",
     "output_type": "error",
     "traceback": [
      "\u001b[1;31m---------------------------------------------------------------------------\u001b[0m",
      "\u001b[1;31mValidationError\u001b[0m                           Traceback (most recent call last)",
      "\u001b[1;32mC:\\Users\\OMKARP~1\\AppData\\Local\\Temp/ipykernel_9960/2845070807.py\u001b[0m in \u001b[0;36m<module>\u001b[1;34m\u001b[0m\n\u001b[1;32m----> 1\u001b[1;33m \u001b[0mUserLoginSchema\u001b[0m\u001b[1;33m(\u001b[0m\u001b[1;33m**\u001b[0m\u001b[0mpost_data\u001b[0m\u001b[1;33m)\u001b[0m\u001b[1;33m\u001b[0m\u001b[1;33m\u001b[0m\u001b[0m\n\u001b[0m",
      "\u001b[1;32me:\\projects\\video membership app\\video-membership-webapp\\env\\lib\\site-packages\\pydantic\\main.cp39-win_amd64.pyd\u001b[0m in \u001b[0;36mpydantic.main.BaseModel.__init__\u001b[1;34m()\u001b[0m\n",
      "\u001b[1;31mValidationError\u001b[0m: 1 validation error for UserLoginSchema\nemail\n  value is not a valid email address (type=value_error.email)"
     ]
    }
   ],
   "source": [
    "UserLoginSchema(**post_data)"
   ]
  },
  {
   "cell_type": "code",
   "execution_count": 22,
   "id": "6ef2e0d4",
   "metadata": {},
   "outputs": [
    {
     "data": {
      "text/plain": [
       "UserLoginSchema(email='test@abc.com', password=SecretStr('**********'))"
      ]
     },
     "execution_count": 22,
     "metadata": {},
     "output_type": "execute_result"
    }
   ],
   "source": [
    "UserLoginSchema(**post_data) #email='test@abc.com', password= 'Abcde'"
   ]
  },
  {
   "cell_type": "code",
   "execution_count": 24,
   "id": "110d60ee",
   "metadata": {},
   "outputs": [],
   "source": [
    "class UserSignupSchema(BaseModel):\n",
    "    email : EmailStr\n",
    "    password : SecretStr\n",
    "    password_confirm : SecretStr\n",
    "    \n",
    "    @validator('email')\n",
    "    def email_available(cls, v, values, **kwargs): #values = {email: ,password: ,password_confirm:} , v = @validator('***')\n",
    "        q = User.objects.filter(email = v)\n",
    "        if q.count() != 0:\n",
    "            raise ValueError(\"Email is not available\")\n",
    "        return v\n",
    "    \n",
    "    @validator('password_confirm')\n",
    "    def password_match(cls, v, values, **kwargs):\n",
    "        password = values.get('password')\n",
    "        password_confirm = v\n",
    "        if password != password_confirm:\n",
    "            raise ValueError('Password does not match')\n",
    "        return v"
   ]
  },
  {
   "cell_type": "code",
   "execution_count": 25,
   "id": "0fbb2722",
   "metadata": {},
   "outputs": [
    {
     "ename": "ValidationError",
     "evalue": "2 validation errors for UserSignupSchema\nemail\n  Email is not available (type=value_error)\npassword_confirm\n  Password does not match (type=value_error)",
     "output_type": "error",
     "traceback": [
      "\u001b[1;31m---------------------------------------------------------------------------\u001b[0m",
      "\u001b[1;31mValidationError\u001b[0m                           Traceback (most recent call last)",
      "\u001b[1;32mC:\\Users\\OMKARP~1\\AppData\\Local\\Temp/ipykernel_9960/1006444461.py\u001b[0m in \u001b[0;36m<module>\u001b[1;34m\u001b[0m\n\u001b[1;32m----> 1\u001b[1;33m \u001b[0mUserSignupSchema\u001b[0m\u001b[1;33m(\u001b[0m\u001b[0memail\u001b[0m\u001b[1;33m=\u001b[0m\u001b[1;34m\"test@abc.com\"\u001b[0m\u001b[1;33m,\u001b[0m \u001b[0mpassword\u001b[0m \u001b[1;33m=\u001b[0m \u001b[1;34m\"Abcde\"\u001b[0m\u001b[1;33m,\u001b[0m \u001b[0mpassword_confirm\u001b[0m \u001b[1;33m=\u001b[0m \u001b[1;34m\"Abc\"\u001b[0m\u001b[1;33m)\u001b[0m\u001b[1;33m\u001b[0m\u001b[1;33m\u001b[0m\u001b[0m\n\u001b[0m",
      "\u001b[1;32me:\\projects\\video membership app\\video-membership-webapp\\env\\lib\\site-packages\\pydantic\\main.cp39-win_amd64.pyd\u001b[0m in \u001b[0;36mpydantic.main.BaseModel.__init__\u001b[1;34m()\u001b[0m\n",
      "\u001b[1;31mValidationError\u001b[0m: 2 validation errors for UserSignupSchema\nemail\n  Email is not available (type=value_error)\npassword_confirm\n  Password does not match (type=value_error)"
     ]
    }
   ],
   "source": [
    "UserSignupSchema(email=\"test@abc.com\", password = \"Abcde\", password_confirm = \"Abc\")"
   ]
  },
  {
   "cell_type": "code",
   "execution_count": 26,
   "id": "bc269ec9",
   "metadata": {},
   "outputs": [
    {
     "ename": "ValidationError",
     "evalue": "1 validation error for UserSignupSchema\nemail\n  Email is not available (type=value_error)",
     "output_type": "error",
     "traceback": [
      "\u001b[1;31m---------------------------------------------------------------------------\u001b[0m",
      "\u001b[1;31mValidationError\u001b[0m                           Traceback (most recent call last)",
      "\u001b[1;32mC:\\Users\\OMKARP~1\\AppData\\Local\\Temp/ipykernel_9960/1652485722.py\u001b[0m in \u001b[0;36m<module>\u001b[1;34m\u001b[0m\n\u001b[1;32m----> 1\u001b[1;33m \u001b[0mUserSignupSchema\u001b[0m\u001b[1;33m(\u001b[0m\u001b[0memail\u001b[0m\u001b[1;33m=\u001b[0m\u001b[1;34m\"test@abc.com\"\u001b[0m\u001b[1;33m,\u001b[0m \u001b[0mpassword\u001b[0m \u001b[1;33m=\u001b[0m \u001b[1;34m\"Abcde\"\u001b[0m\u001b[1;33m,\u001b[0m \u001b[0mpassword_confirm\u001b[0m \u001b[1;33m=\u001b[0m \u001b[1;34m\"Abcde\"\u001b[0m\u001b[1;33m)\u001b[0m\u001b[1;33m\u001b[0m\u001b[1;33m\u001b[0m\u001b[0m\n\u001b[0m",
      "\u001b[1;32me:\\projects\\video membership app\\video-membership-webapp\\env\\lib\\site-packages\\pydantic\\main.cp39-win_amd64.pyd\u001b[0m in \u001b[0;36mpydantic.main.BaseModel.__init__\u001b[1;34m()\u001b[0m\n",
      "\u001b[1;31mValidationError\u001b[0m: 1 validation error for UserSignupSchema\nemail\n  Email is not available (type=value_error)"
     ]
    }
   ],
   "source": [
    "UserSignupSchema(email=\"test@abc.com\", password = \"Abcde\", password_confirm = \"Abcde\")"
   ]
  },
  {
   "cell_type": "code",
   "execution_count": 27,
   "id": "d17e34c5",
   "metadata": {},
   "outputs": [
    {
     "data": {
      "text/plain": [
       "UserSignupSchema(email='test1@abc.com', password=SecretStr('**********'), password_confirm=SecretStr('**********'))"
      ]
     },
     "execution_count": 27,
     "metadata": {},
     "output_type": "execute_result"
    }
   ],
   "source": [
    "UserSignupSchema(email=\"test1@abc.com\", password = \"Abcde\", password_confirm = \"Abcde\")"
   ]
  },
  {
   "cell_type": "code",
   "execution_count": null,
   "id": "7fab587d",
   "metadata": {},
   "outputs": [],
   "source": []
  }
 ],
 "metadata": {
  "kernelspec": {
   "display_name": "Python 3 (ipykernel)",
   "language": "python",
   "name": "python3"
  },
  "language_info": {
   "codemirror_mode": {
    "name": "ipython",
    "version": 3
   },
   "file_extension": ".py",
   "mimetype": "text/x-python",
   "name": "python",
   "nbconvert_exporter": "python",
   "pygments_lexer": "ipython3",
   "version": "3.9.6"
  }
 },
 "nbformat": 4,
 "nbformat_minor": 5
}
