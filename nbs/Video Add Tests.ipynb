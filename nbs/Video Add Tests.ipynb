{
 "cells": [
  {
   "cell_type": "code",
   "execution_count": 1,
   "id": "28dad8e7",
   "metadata": {},
   "outputs": [
    {
     "name": "stdout",
     "output_type": "stream",
     "text": [
      "E:\\PROJECTS\\Video Membership App\\Video-Membership-Webapp\n"
     ]
    }
   ],
   "source": [
    "%cd ..\n"
   ]
  },
  {
   "cell_type": "code",
   "execution_count": 2,
   "id": "42ad52fa",
   "metadata": {},
   "outputs": [],
   "source": [
    "from app import db\n",
    "from app.users.models import User\n",
    "from app.videos.models import Video\n",
    "from cassandra.cqlengine.management import sync_table"
   ]
  },
  {
   "cell_type": "code",
   "execution_count": 3,
   "id": "ca417a42",
   "metadata": {},
   "outputs": [],
   "source": [
    "db.get_session()\n",
    "sync_table(User)\n",
    "sync_table(Video)"
   ]
  },
  {
   "cell_type": "code",
   "execution_count": 4,
   "id": "7901a9fe",
   "metadata": {},
   "outputs": [],
   "source": [
    "url = \"http://youtu.be/nNpvWBuTfrc\""
   ]
  },
  {
   "cell_type": "code",
   "execution_count": 5,
   "id": "422edc2f",
   "metadata": {},
   "outputs": [
    {
     "data": {
      "text/plain": [
       "User(email = test1@abc.com, user_id = 4f8e6bde-7056-11ec-90e6-90ccdf07a52a"
      ]
     },
     "execution_count": 5,
     "metadata": {},
     "output_type": "execute_result"
    }
   ],
   "source": [
    "user = User.objects.get(email=\"test1@abc.com\")\n",
    "user"
   ]
  },
  {
   "cell_type": "code",
   "execution_count": 6,
   "id": "a2abf7d8",
   "metadata": {},
   "outputs": [],
   "source": [
    "q = Video.add_video(url,user.user_id)"
   ]
  },
  {
   "cell_type": "code",
   "execution_count": 7,
   "id": "c9d40ee1",
   "metadata": {},
   "outputs": [
    {
     "data": {
      "text/plain": [
       "Video(title = None, host_id = nNpvWBuTfrc, host_service = youtube"
      ]
     },
     "execution_count": 7,
     "metadata": {},
     "output_type": "execute_result"
    }
   ],
   "source": [
    "q"
   ]
  },
  {
   "cell_type": "code",
   "execution_count": 10,
   "id": "19483c50",
   "metadata": {},
   "outputs": [],
   "source": [
    "url = \"https://youtu.be/Axmg1E4HrVE\""
   ]
  },
  {
   "cell_type": "code",
   "execution_count": 11,
   "id": "4b40d75d",
   "metadata": {},
   "outputs": [],
   "source": [
    "obj = Video.add_video(url,user.user_id)"
   ]
  },
  {
   "cell_type": "code",
   "execution_count": 12,
   "id": "5418f2fb",
   "metadata": {},
   "outputs": [
    {
     "data": {
      "text/plain": [
       "'Axmg1E4HrVE'"
      ]
     },
     "execution_count": 12,
     "metadata": {},
     "output_type": "execute_result"
    }
   ],
   "source": [
    "obj.host_id"
   ]
  },
  {
   "cell_type": "code",
   "execution_count": null,
   "id": "82d866c7",
   "metadata": {},
   "outputs": [],
   "source": []
  }
 ],
 "metadata": {
  "kernelspec": {
   "display_name": "Python 3 (ipykernel)",
   "language": "python",
   "name": "python3"
  },
  "language_info": {
   "codemirror_mode": {
    "name": "ipython",
    "version": 3
   },
   "file_extension": ".py",
   "mimetype": "text/x-python",
   "name": "python",
   "nbconvert_exporter": "python",
   "pygments_lexer": "ipython3",
   "version": "3.9.6"
  }
 },
 "nbformat": 4,
 "nbformat_minor": 5
}
