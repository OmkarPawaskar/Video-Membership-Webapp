{
 "cells": [
  {
   "cell_type": "code",
   "execution_count": 1,
   "id": "28dad8e7",
   "metadata": {},
   "outputs": [
    {
     "name": "stdout",
     "output_type": "stream",
     "text": [
      "E:\\PROJECTS\\Video Membership App\\Video-Membership-Webapp\n"
     ]
    }
   ],
   "source": [
    "%cd ..\n"
   ]
  },
  {
   "cell_type": "code",
   "execution_count": 25,
   "id": "42ad52fa",
   "metadata": {},
   "outputs": [],
   "source": [
    "from app import db\n",
    "from app.users.models import User\n",
    "from app.videos.models import Video\n",
    "from app.playlists.models import Playlist\n",
    "from cassandra.cqlengine.management import sync_table"
   ]
  },
  {
   "cell_type": "code",
   "execution_count": 26,
   "id": "ca417a42",
   "metadata": {},
   "outputs": [],
   "source": [
    "db.get_session()\n",
    "sync_table(Playlist)\n",
    "sync_table(User)\n",
    "sync_table(Video)"
   ]
  },
  {
   "cell_type": "code",
   "execution_count": 13,
   "id": "7901a9fe",
   "metadata": {},
   "outputs": [],
   "source": [
    "url = \"http://youtu.be/nNpvWBuTfrc\""
   ]
  },
  {
   "cell_type": "code",
   "execution_count": 14,
   "id": "422edc2f",
   "metadata": {},
   "outputs": [
    {
     "data": {
      "text/plain": [
       "User(email = test1@abc.com, user_id = 4f8e6bde-7056-11ec-90e6-90ccdf07a52a"
      ]
     },
     "execution_count": 14,
     "metadata": {},
     "output_type": "execute_result"
    }
   ],
   "source": [
    "user = User.objects.get(email=\"test1@abc.com\")\n",
    "user"
   ]
  },
  {
   "cell_type": "code",
   "execution_count": 15,
   "id": "a2abf7d8",
   "metadata": {},
   "outputs": [
    {
     "ename": "VideoAlreadyAddedException",
     "evalue": "Video Already added",
     "output_type": "error",
     "traceback": [
      "\u001b[1;31m---------------------------------------------------------------------------\u001b[0m",
      "\u001b[1;31mVideoAlreadyAddedException\u001b[0m                Traceback (most recent call last)",
      "\u001b[1;32mC:\\Users\\OMKARP~1\\AppData\\Local\\Temp/ipykernel_21028/3045257478.py\u001b[0m in \u001b[0;36m<module>\u001b[1;34m\u001b[0m\n\u001b[1;32m----> 1\u001b[1;33m \u001b[0mq\u001b[0m \u001b[1;33m=\u001b[0m \u001b[0mVideo\u001b[0m\u001b[1;33m.\u001b[0m\u001b[0madd_video\u001b[0m\u001b[1;33m(\u001b[0m\u001b[0murl\u001b[0m\u001b[1;33m,\u001b[0m\u001b[0muser\u001b[0m\u001b[1;33m.\u001b[0m\u001b[0muser_id\u001b[0m\u001b[1;33m)\u001b[0m\u001b[1;33m\u001b[0m\u001b[1;33m\u001b[0m\u001b[0m\n\u001b[0m",
      "\u001b[1;32mE:\\PROJECTS\\Video Membership App\\Video-Membership-Webapp\\app\\videos\\models.py\u001b[0m in \u001b[0;36madd_video\u001b[1;34m(url, user_id, **kwargs)\u001b[0m\n\u001b[0;32m     76\u001b[0m         \u001b[0mq\u001b[0m \u001b[1;33m=\u001b[0m \u001b[0mVideo\u001b[0m\u001b[1;33m.\u001b[0m\u001b[0mobjects\u001b[0m\u001b[1;33m.\u001b[0m\u001b[0mallow_filtering\u001b[0m\u001b[1;33m(\u001b[0m\u001b[1;33m)\u001b[0m\u001b[1;33m.\u001b[0m\u001b[0mfilter\u001b[0m\u001b[1;33m(\u001b[0m\u001b[0mhost_id\u001b[0m\u001b[1;33m=\u001b[0m\u001b[0mhost_id\u001b[0m\u001b[1;33m,\u001b[0m \u001b[0muser_id\u001b[0m\u001b[1;33m=\u001b[0m\u001b[0muser_id\u001b[0m\u001b[1;33m)\u001b[0m\u001b[1;33m\u001b[0m\u001b[1;33m\u001b[0m\u001b[0m\n\u001b[0;32m     77\u001b[0m         \u001b[1;32mif\u001b[0m \u001b[0mq\u001b[0m\u001b[1;33m.\u001b[0m\u001b[0mcount\u001b[0m\u001b[1;33m(\u001b[0m\u001b[1;33m)\u001b[0m \u001b[1;33m!=\u001b[0m \u001b[1;36m0\u001b[0m\u001b[1;33m:\u001b[0m\u001b[1;33m\u001b[0m\u001b[1;33m\u001b[0m\u001b[0m\n\u001b[1;32m---> 78\u001b[1;33m             \u001b[1;32mraise\u001b[0m \u001b[0mVideoAlreadyAddedException\u001b[0m\u001b[1;33m(\u001b[0m\u001b[1;34m\"Video Already added\"\u001b[0m\u001b[1;33m)\u001b[0m\u001b[1;33m\u001b[0m\u001b[1;33m\u001b[0m\u001b[0m\n\u001b[0m\u001b[0;32m     79\u001b[0m         \u001b[1;32mreturn\u001b[0m \u001b[0mVideo\u001b[0m\u001b[1;33m.\u001b[0m\u001b[0mcreate\u001b[0m\u001b[1;33m(\u001b[0m\u001b[0mhost_id\u001b[0m\u001b[1;33m=\u001b[0m\u001b[0mhost_id\u001b[0m\u001b[1;33m,\u001b[0m\u001b[0muser_id\u001b[0m\u001b[1;33m=\u001b[0m\u001b[0muser_id\u001b[0m\u001b[1;33m,\u001b[0m\u001b[0murl\u001b[0m\u001b[1;33m=\u001b[0m\u001b[0murl\u001b[0m\u001b[1;33m,\u001b[0m \u001b[1;33m**\u001b[0m\u001b[0mkwargs\u001b[0m\u001b[1;33m)\u001b[0m\u001b[1;33m\u001b[0m\u001b[1;33m\u001b[0m\u001b[0m\n",
      "\u001b[1;31mVideoAlreadyAddedException\u001b[0m: Video Already added"
     ]
    }
   ],
   "source": [
    "q = Video.add_video(url,user.user_id)"
   ]
  },
  {
   "cell_type": "code",
   "execution_count": 20,
   "id": "19483c50",
   "metadata": {},
   "outputs": [],
   "source": [
    "url = \"https://youtu.be/Axmg1E4HrVE\""
   ]
  },
  {
   "cell_type": "code",
   "execution_count": 21,
   "id": "4b40d75d",
   "metadata": {},
   "outputs": [],
   "source": [
    "obj,created = Video.get_or_create(url,user.user_id)"
   ]
  },
  {
   "cell_type": "code",
   "execution_count": 24,
   "id": "5418f2fb",
   "metadata": {},
   "outputs": [
    {
     "data": {
      "text/plain": [
       "(Video(title = None, host_id = Axmg1E4HrVE, host_service = youtube), False)"
      ]
     },
     "execution_count": 24,
     "metadata": {},
     "output_type": "execute_result"
    }
   ],
   "source": [
    "obj,created"
   ]
  },
  {
   "cell_type": "code",
   "execution_count": 33,
   "id": "82d866c7",
   "metadata": {},
   "outputs": [
    {
     "data": {
      "text/plain": [
       "Playlist(db_id=UUID('6be2ba23-7ba1-11ec-b5c0-088fc304d5ee'), user_id=UUID('4f8e6bde-7056-11ec-90e6-90ccdf07a52a'), updated=datetime.datetime(2022, 1, 28, 2, 48, 13, 471032), host_ids=['Axmg1E4HrVE'], title='New Album 1')"
      ]
     },
     "execution_count": 33,
     "metadata": {},
     "output_type": "execute_result"
    }
   ],
   "source": [
    "playlist_obj = Playlist.objects.all().first()\n",
    "playlist_obj.add_host_ids(host_ids = [obj.host_id], replace_all=True)\n",
    "playlist_obj.save()\n",
    "playlist_obj"
   ]
  },
  {
   "cell_type": "code",
   "execution_count": null,
   "id": "38a194c3",
   "metadata": {},
   "outputs": [],
   "source": []
  },
  {
   "cell_type": "code",
   "execution_count": null,
   "id": "169267b9",
   "metadata": {},
   "outputs": [],
   "source": []
  }
 ],
 "metadata": {
  "kernelspec": {
   "display_name": "Python 3 (ipykernel)",
   "language": "python",
   "name": "python3"
  },
  "language_info": {
   "codemirror_mode": {
    "name": "ipython",
    "version": 3
   },
   "file_extension": ".py",
   "mimetype": "text/x-python",
   "name": "python",
   "nbconvert_exporter": "python",
   "pygments_lexer": "ipython3",
   "version": "3.9.6"
  }
 },
 "nbformat": 4,
 "nbformat_minor": 5
}
