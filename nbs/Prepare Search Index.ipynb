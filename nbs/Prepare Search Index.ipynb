{
 "cells": [
  {
   "cell_type": "code",
   "execution_count": 1,
   "id": "28dad8e7",
   "metadata": {},
   "outputs": [
    {
     "name": "stdout",
     "output_type": "stream",
     "text": [
      "E:\\PROJECTS\\Video Membership App\\Video-Membership-Webapp\n"
     ]
    }
   ],
   "source": [
    "%cd ..\n"
   ]
  },
  {
   "cell_type": "code",
   "execution_count": 2,
   "id": "42ad52fa",
   "metadata": {},
   "outputs": [],
   "source": [
    "from app import db\n",
    "from app.users.models import User\n",
    "from app.videos.models import Video\n",
    "from app.playlists.models import Playlist\n",
    "from cassandra.cqlengine.management import sync_table"
   ]
  },
  {
   "cell_type": "code",
   "execution_count": 3,
   "id": "7a4a5a91",
   "metadata": {},
   "outputs": [],
   "source": [
    "from app.indexing.client import get_index, update_index\n",
    "from app.indexing.schemas import *"
   ]
  },
  {
   "cell_type": "code",
   "execution_count": 4,
   "id": "ca417a42",
   "metadata": {},
   "outputs": [],
   "source": [
    "db.get_session()\n",
    "sync_table(Playlist)\n",
    "sync_table(User)\n",
    "sync_table(Video)"
   ]
  },
  {
   "cell_type": "code",
   "execution_count": 5,
   "id": "1e66acd8",
   "metadata": {},
   "outputs": [],
   "source": [
    "import uuid\n",
    "import json\n",
    "from pydantic import BaseModel, Field, validator, root_validator\n",
    "from typing import Optional"
   ]
  },
  {
   "cell_type": "code",
   "execution_count": 6,
   "id": "e140aa96",
   "metadata": {},
   "outputs": [
    {
     "data": {
      "text/plain": [
       "{'host_id': 'OQ1CwPhE8KQ',\n",
       " 'db_id': UUID('7c67024e-8358-11ec-a71b-088fc304d5ee'),\n",
       " 'host_service': 'youtube',\n",
       " 'title': ' Call of Duty: Vanguard , Reveal Trailer',\n",
       " 'url': 'https://youtu.be/OQ1CwPhE8KQ',\n",
       " 'user_id': UUID('4f8e6bde-7056-11ec-90e6-90ccdf07a52a')}"
      ]
     },
     "execution_count": 6,
     "metadata": {},
     "output_type": "execute_result"
    }
   ],
   "source": [
    "video_obj = dict(Video.objects.first())\n",
    "video_obj"
   ]
  },
  {
   "cell_type": "code",
   "execution_count": 7,
   "id": "3c741e3d",
   "metadata": {},
   "outputs": [],
   "source": [
    "class VideoIndexSchema(BaseModel):\n",
    "    objectID : str = Field(alias=\"host_id\")\n",
    "    objectType: str = \"Videos\"\n",
    "    title : Optional[str]\n",
    "    path : str = Field(alias=\"host_id\")\n",
    "        \n",
    "    @validator(\"path\")\n",
    "    def set_path(cls, v, values, **kwargs):\n",
    "        host_id = v\n",
    "        return f\"/videos/{host_id}\""
   ]
  },
  {
   "cell_type": "code",
   "execution_count": 8,
   "id": "77d4f281",
   "metadata": {},
   "outputs": [
    {
     "data": {
      "text/plain": [
       "{'objectID': 'OQ1CwPhE8KQ',\n",
       " 'objectType': 'Videos',\n",
       " 'title': ' Call of Duty: Vanguard , Reveal Trailer',\n",
       " 'path': '/videos/OQ1CwPhE8KQ'}"
      ]
     },
     "execution_count": 8,
     "metadata": {},
     "output_type": "execute_result"
    }
   ],
   "source": [
    "VideoIndexSchema(**video_obj).dict()"
   ]
  },
  {
   "cell_type": "code",
   "execution_count": 9,
   "id": "8851ab34",
   "metadata": {},
   "outputs": [
    {
     "data": {
      "text/plain": [
       "{'db_id': UUID('6be2ba23-7ba1-11ec-b5c0-088fc304d5ee'),\n",
       " 'user_id': UUID('4f8e6bde-7056-11ec-90e6-90ccdf07a52a'),\n",
       " 'updated': datetime.datetime(2022, 2, 17, 15, 22, 50, 737000),\n",
       " 'host_ids': ['Axmg1E4HrVE', 'Axmg1E4HrVE'],\n",
       " 'title': 'New Album 1'}"
      ]
     },
     "execution_count": 9,
     "metadata": {},
     "output_type": "execute_result"
    }
   ],
   "source": [
    "playlist_obj = dict(Playlist.objects.first())\n",
    "playlist_obj"
   ]
  },
  {
   "cell_type": "code",
   "execution_count": 10,
   "id": "1381aae0",
   "metadata": {},
   "outputs": [],
   "source": [
    "class PlaylistIndexSchema(BaseModel):\n",
    "    objectID : uuid.UUID = Field(alias=\"db_id\")\n",
    "    objectType: str = \"Videos\"\n",
    "    title : Optional[str]\n",
    "    path : str = Field(default = \"/\")\n",
    "    \n",
    "    @root_validator\n",
    "    def set_defaults(cls, values):\n",
    "        objectID = values.get(\"objectID\")\n",
    "        values['objectID'] = str(objectID)\n",
    "        values['path'] = f\"/playlists/{objectID}\"\n",
    "        return values"
   ]
  },
  {
   "cell_type": "code",
   "execution_count": 11,
   "id": "c01ee2c5",
   "metadata": {},
   "outputs": [
    {
     "data": {
      "text/plain": [
       "{'objectID': '6be2ba23-7ba1-11ec-b5c0-088fc304d5ee',\n",
       " 'objectType': 'Videos',\n",
       " 'title': 'New Album 1',\n",
       " 'path': '/playlists/6be2ba23-7ba1-11ec-b5c0-088fc304d5ee'}"
      ]
     },
     "execution_count": 11,
     "metadata": {},
     "output_type": "execute_result"
    }
   ],
   "source": [
    "PlaylistIndexSchema(**playlist_obj).dict()"
   ]
  },
  {
   "cell_type": "code",
   "execution_count": 12,
   "id": "257976e1",
   "metadata": {},
   "outputs": [
    {
     "data": {
      "text/plain": [
       "[{'objectID': 'OQ1CwPhE8KQ',\n",
       "  'objectType': 'Videos',\n",
       "  'title': ' Call of Duty: Vanguard , Reveal Trailer',\n",
       "  'path': '/videos/OQ1CwPhE8KQ'},\n",
       " {'objectID': 'cK4iAjzAoas',\n",
       "  'objectType': 'Videos',\n",
       "  'title': \"Assassin's Creed Origins Cinematic Trailer\",\n",
       "  'path': '/videos/cK4iAjzAoas'},\n",
       " {'objectID': 'eyDBCowbKJs',\n",
       "  'objectType': 'Videos',\n",
       "  'title': 'Call of Duty: Vanguard - Angry Review',\n",
       "  'path': '/videos/eyDBCowbKJs'},\n",
       " {'objectID': '4cJpiOPKH14',\n",
       "  'objectType': 'Videos',\n",
       "  'title': 'Star Wars Eclipse – Official Cinematic Reveal Trailer',\n",
       "  'path': '/videos/4cJpiOPKH14'},\n",
       " {'objectID': '8D9pPtOgIFQ',\n",
       "  'objectType': 'Videos',\n",
       "  'title': 'Achilles: Legends Untold - Official Story Trailer',\n",
       "  'path': '/videos/8D9pPtOgIFQ'},\n",
       " {'objectID': 'nOMIwsupy9k',\n",
       "  'objectType': 'Videos',\n",
       "  'title': 'Black Myth: Wukong - Official Unreal Engine 5 Gameplay Trailer',\n",
       "  'path': '/videos/nOMIwsupy9k'},\n",
       " {'objectID': 'UxDWGW7Z67I',\n",
       "  'objectType': 'Videos',\n",
       "  'title': 'Horizon Forbidden West - Story Trailer | PS5, PS4',\n",
       "  'path': '/videos/UxDWGW7Z67I'},\n",
       " {'objectID': '0GZdBPXuLR4',\n",
       "  'objectType': 'Videos',\n",
       "  'title': 'Exclusive ELDEN RING Gameplay – Exploring Castle Mourne',\n",
       "  'path': '/videos/0GZdBPXuLR4'},\n",
       " {'objectID': 'ihsRc27QVco',\n",
       "  'objectType': 'Videos',\n",
       "  'title': 'Battlefield 2042 - Angry Review',\n",
       "  'path': '/videos/ihsRc27QVco'},\n",
       " {'objectID': '1O6Qstncpnc',\n",
       "  'objectType': 'Videos',\n",
       "  'title': 'Hogwarts Legacy - Official Reveal Trailer | PS5 | Edit',\n",
       "  'path': '/videos/1O6Qstncpnc'}]"
      ]
     },
     "execution_count": 12,
     "metadata": {},
     "output_type": "execute_result"
    }
   ],
   "source": [
    "video_q = [dict(x) for x in Video.objects.all()]\n",
    "video_dataset = [VideoIndexSchema(**x).dict() for x in video_q]\n",
    "video_dataset"
   ]
  },
  {
   "cell_type": "code",
   "execution_count": 13,
   "id": "7d03e8f1",
   "metadata": {},
   "outputs": [
    {
     "data": {
      "text/plain": [
       "[{'objectID': '6be2ba23-7ba1-11ec-b5c0-088fc304d5ee',\n",
       "  'objectType': 'Videos',\n",
       "  'title': 'New Album 1',\n",
       "  'path': '/playlists/6be2ba23-7ba1-11ec-b5c0-088fc304d5ee'},\n",
       " {'objectID': '5cc2a152-7b9f-11ec-9136-088fc304d5ee',\n",
       "  'objectType': 'Videos',\n",
       "  'title': 'New Album',\n",
       "  'path': '/playlists/5cc2a152-7b9f-11ec-9136-088fc304d5ee'},\n",
       " {'objectID': '884180c1-7b78-11ec-92bd-088fc304d5ee',\n",
       "  'objectType': 'Videos',\n",
       "  'title': 'hello world',\n",
       "  'path': '/playlists/884180c1-7b78-11ec-92bd-088fc304d5ee'},\n",
       " {'objectID': '73010141-7b9f-11ec-a63e-088fc304d5ee',\n",
       "  'objectType': 'Videos',\n",
       "  'title': 'New Album',\n",
       "  'path': '/playlists/73010141-7b9f-11ec-a63e-088fc304d5ee'},\n",
       " {'objectID': '4b1a2bb2-7b78-11ec-b077-088fc304d5ee',\n",
       "  'objectType': 'Videos',\n",
       "  'title': 'hello world',\n",
       "  'path': '/playlists/4b1a2bb2-7b78-11ec-b077-088fc304d5ee'},\n",
       " {'objectID': '7f47d8c3-7b76-11ec-a3ef-088fc304d5ee',\n",
       "  'objectType': 'Videos',\n",
       "  'title': 'hello world',\n",
       "  'path': '/playlists/7f47d8c3-7b76-11ec-a3ef-088fc304d5ee'},\n",
       " {'objectID': '7d69f0cd-9005-11ec-ae06-90ccdf07a52a',\n",
       "  'objectType': 'Videos',\n",
       "  'title': 'New Playlist',\n",
       "  'path': '/playlists/7d69f0cd-9005-11ec-ae06-90ccdf07a52a'}]"
      ]
     },
     "execution_count": 13,
     "metadata": {},
     "output_type": "execute_result"
    }
   ],
   "source": [
    "playlist_q = [dict(x) for x in Playlist.objects.all()]\n",
    "playlist_dataset = [PlaylistIndexSchema(**x).dict() for x in playlist_q]\n",
    "playlist_dataset"
   ]
  },
  {
   "cell_type": "code",
   "execution_count": 14,
   "id": "e83bae1d",
   "metadata": {},
   "outputs": [
    {
     "data": {
      "text/plain": [
       "[{'objectID': 'OQ1CwPhE8KQ',\n",
       "  'objectType': 'Videos',\n",
       "  'title': ' Call of Duty: Vanguard , Reveal Trailer',\n",
       "  'path': '/videos/OQ1CwPhE8KQ'},\n",
       " {'objectID': 'cK4iAjzAoas',\n",
       "  'objectType': 'Videos',\n",
       "  'title': \"Assassin's Creed Origins Cinematic Trailer\",\n",
       "  'path': '/videos/cK4iAjzAoas'},\n",
       " {'objectID': 'eyDBCowbKJs',\n",
       "  'objectType': 'Videos',\n",
       "  'title': 'Call of Duty: Vanguard - Angry Review',\n",
       "  'path': '/videos/eyDBCowbKJs'},\n",
       " {'objectID': '4cJpiOPKH14',\n",
       "  'objectType': 'Videos',\n",
       "  'title': 'Star Wars Eclipse – Official Cinematic Reveal Trailer',\n",
       "  'path': '/videos/4cJpiOPKH14'},\n",
       " {'objectID': '8D9pPtOgIFQ',\n",
       "  'objectType': 'Videos',\n",
       "  'title': 'Achilles: Legends Untold - Official Story Trailer',\n",
       "  'path': '/videos/8D9pPtOgIFQ'},\n",
       " {'objectID': 'nOMIwsupy9k',\n",
       "  'objectType': 'Videos',\n",
       "  'title': 'Black Myth: Wukong - Official Unreal Engine 5 Gameplay Trailer',\n",
       "  'path': '/videos/nOMIwsupy9k'},\n",
       " {'objectID': 'UxDWGW7Z67I',\n",
       "  'objectType': 'Videos',\n",
       "  'title': 'Horizon Forbidden West - Story Trailer | PS5, PS4',\n",
       "  'path': '/videos/UxDWGW7Z67I'},\n",
       " {'objectID': '0GZdBPXuLR4',\n",
       "  'objectType': 'Videos',\n",
       "  'title': 'Exclusive ELDEN RING Gameplay – Exploring Castle Mourne',\n",
       "  'path': '/videos/0GZdBPXuLR4'},\n",
       " {'objectID': 'ihsRc27QVco',\n",
       "  'objectType': 'Videos',\n",
       "  'title': 'Battlefield 2042 - Angry Review',\n",
       "  'path': '/videos/ihsRc27QVco'},\n",
       " {'objectID': '1O6Qstncpnc',\n",
       "  'objectType': 'Videos',\n",
       "  'title': 'Hogwarts Legacy - Official Reveal Trailer | PS5 | Edit',\n",
       "  'path': '/videos/1O6Qstncpnc'},\n",
       " {'objectID': '6be2ba23-7ba1-11ec-b5c0-088fc304d5ee',\n",
       "  'objectType': 'Videos',\n",
       "  'title': 'New Album 1',\n",
       "  'path': '/playlists/6be2ba23-7ba1-11ec-b5c0-088fc304d5ee'},\n",
       " {'objectID': '5cc2a152-7b9f-11ec-9136-088fc304d5ee',\n",
       "  'objectType': 'Videos',\n",
       "  'title': 'New Album',\n",
       "  'path': '/playlists/5cc2a152-7b9f-11ec-9136-088fc304d5ee'},\n",
       " {'objectID': '884180c1-7b78-11ec-92bd-088fc304d5ee',\n",
       "  'objectType': 'Videos',\n",
       "  'title': 'hello world',\n",
       "  'path': '/playlists/884180c1-7b78-11ec-92bd-088fc304d5ee'},\n",
       " {'objectID': '73010141-7b9f-11ec-a63e-088fc304d5ee',\n",
       "  'objectType': 'Videos',\n",
       "  'title': 'New Album',\n",
       "  'path': '/playlists/73010141-7b9f-11ec-a63e-088fc304d5ee'},\n",
       " {'objectID': '4b1a2bb2-7b78-11ec-b077-088fc304d5ee',\n",
       "  'objectType': 'Videos',\n",
       "  'title': 'hello world',\n",
       "  'path': '/playlists/4b1a2bb2-7b78-11ec-b077-088fc304d5ee'},\n",
       " {'objectID': '7f47d8c3-7b76-11ec-a3ef-088fc304d5ee',\n",
       "  'objectType': 'Videos',\n",
       "  'title': 'hello world',\n",
       "  'path': '/playlists/7f47d8c3-7b76-11ec-a3ef-088fc304d5ee'},\n",
       " {'objectID': '7d69f0cd-9005-11ec-ae06-90ccdf07a52a',\n",
       "  'objectType': 'Videos',\n",
       "  'title': 'New Playlist',\n",
       "  'path': '/playlists/7d69f0cd-9005-11ec-ae06-90ccdf07a52a'}]"
      ]
     },
     "execution_count": 14,
     "metadata": {},
     "output_type": "execute_result"
    }
   ],
   "source": [
    "dataset = video_dataset + playlist_dataset\n",
    "dataset"
   ]
  },
  {
   "cell_type": "code",
   "execution_count": 15,
   "id": "32b4164c",
   "metadata": {},
   "outputs": [],
   "source": [
    "index = get_index()\n"
   ]
  },
  {
   "cell_type": "code",
   "execution_count": 16,
   "id": "e7ea510f",
   "metadata": {},
   "outputs": [],
   "source": [
    "#dir(index)"
   ]
  },
  {
   "cell_type": "code",
   "execution_count": 17,
   "id": "6a47682f",
   "metadata": {},
   "outputs": [],
   "source": [
    "#idx_response = index.save_objects(dataset).wait()\n",
    "#idx_response[0]"
   ]
  },
  {
   "cell_type": "code",
   "execution_count": 18,
   "id": "18ee272b",
   "metadata": {},
   "outputs": [],
   "source": [
    "#len(idx_response[0]['objectIDs'])"
   ]
  },
  {
   "cell_type": "code",
   "execution_count": 19,
   "id": "78214226",
   "metadata": {},
   "outputs": [
    {
     "data": {
      "text/plain": [
       "17"
      ]
     },
     "execution_count": 19,
     "metadata": {},
     "output_type": "execute_result"
    }
   ],
   "source": [
    "updated_count = update_index()\n",
    "updated_count"
   ]
  },
  {
   "cell_type": "code",
   "execution_count": 20,
   "id": "3406a47f",
   "metadata": {},
   "outputs": [
    {
     "data": {
      "text/plain": [
       "{'hits': [{'objectType': 'Videos',\n",
       "   'title': 'Call of Duty: Vanguard - Angry Review',\n",
       "   'path': '/videos/eyDBCowbKJs',\n",
       "   'objectID': 'eyDBCowbKJs',\n",
       "   '_highlightResult': {'objectType': {'value': 'Videos',\n",
       "     'matchLevel': 'none',\n",
       "     'matchedWords': []},\n",
       "    'title': {'value': '<em>Call</em> <em>of</em> <em>Duty</em>: Vanguard - Angry Review',\n",
       "     'matchLevel': 'full',\n",
       "     'fullyHighlighted': False,\n",
       "     'matchedWords': ['call', 'of', 'duty']},\n",
       "    'path': {'value': '/videos/eyDBCowbKJs',\n",
       "     'matchLevel': 'none',\n",
       "     'matchedWords': []}}},\n",
       "  {'objectType': 'Videos',\n",
       "   'title': ' Call of Duty: Vanguard , Reveal Trailer',\n",
       "   'path': '/videos/OQ1CwPhE8KQ',\n",
       "   'objectID': 'OQ1CwPhE8KQ',\n",
       "   '_highlightResult': {'objectType': {'value': 'Videos',\n",
       "     'matchLevel': 'none',\n",
       "     'matchedWords': []},\n",
       "    'title': {'value': ' <em>Call</em> <em>of</em> <em>Duty</em>: Vanguard , Reveal Trailer',\n",
       "     'matchLevel': 'full',\n",
       "     'fullyHighlighted': False,\n",
       "     'matchedWords': ['call', 'of', 'duty']},\n",
       "    'path': {'value': '/videos/OQ1CwPhE8KQ',\n",
       "     'matchLevel': 'none',\n",
       "     'matchedWords': []}}}],\n",
       " 'nbHits': 2,\n",
       " 'page': 0,\n",
       " 'nbPages': 1,\n",
       " 'hitsPerPage': 20,\n",
       " 'exhaustiveNbHits': True,\n",
       " 'exhaustiveTypo': True,\n",
       " 'query': 'Call of Duty',\n",
       " 'params': 'query=Call+of+Duty',\n",
       " 'renderingContent': {},\n",
       " 'processingTimeMS': 1}"
      ]
     },
     "execution_count": 20,
     "metadata": {},
     "output_type": "execute_result"
    }
   ],
   "source": [
    "index.search(\"Call of Duty\")"
   ]
  },
  {
   "cell_type": "code",
   "execution_count": null,
   "id": "c960274b",
   "metadata": {},
   "outputs": [],
   "source": []
  }
 ],
 "metadata": {
  "kernelspec": {
   "display_name": "Python 3 (ipykernel)",
   "language": "python",
   "name": "python3"
  },
  "language_info": {
   "codemirror_mode": {
    "name": "ipython",
    "version": 3
   },
   "file_extension": ".py",
   "mimetype": "text/x-python",
   "name": "python",
   "nbconvert_exporter": "python",
   "pygments_lexer": "ipython3",
   "version": "3.9.6"
  }
 },
 "nbformat": 4,
 "nbformat_minor": 5
}
