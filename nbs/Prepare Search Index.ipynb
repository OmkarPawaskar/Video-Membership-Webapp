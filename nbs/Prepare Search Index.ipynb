{
 "cells": [
  {
   "cell_type": "code",
   "execution_count": 1,
   "id": "28dad8e7",
   "metadata": {},
   "outputs": [
    {
     "name": "stdout",
     "output_type": "stream",
     "text": [
      "E:\\PROJECTS\\Video Membership App\\Video-Membership-Webapp\n"
     ]
    }
   ],
   "source": [
    "%cd ..\n"
   ]
  },
  {
   "cell_type": "code",
   "execution_count": 2,
   "id": "42ad52fa",
   "metadata": {},
   "outputs": [],
   "source": [
    "from app import db\n",
    "from app.users.models import User\n",
    "from app.videos.models import Video\n",
    "from app.playlists.models import Playlist\n",
    "from cassandra.cqlengine.management import sync_table"
   ]
  },
  {
   "cell_type": "code",
   "execution_count": 3,
   "id": "ca417a42",
   "metadata": {},
   "outputs": [],
   "source": [
    "db.get_session()\n",
    "sync_table(Playlist)\n",
    "sync_table(User)\n",
    "sync_table(Video)"
   ]
  },
  {
   "cell_type": "code",
   "execution_count": 19,
   "id": "1e66acd8",
   "metadata": {},
   "outputs": [],
   "source": [
    "import uuid\n",
    "import json\n",
    "from pydantic import BaseModel, Field, validator, root_validator\n",
    "from typing import Optional"
   ]
  },
  {
   "cell_type": "code",
   "execution_count": 5,
   "id": "e140aa96",
   "metadata": {},
   "outputs": [
    {
     "data": {
      "text/plain": [
       "{'host_id': 'OQ1CwPhE8KQ',\n",
       " 'db_id': UUID('7c67024e-8358-11ec-a71b-088fc304d5ee'),\n",
       " 'host_service': 'youtube',\n",
       " 'title': ' Call of Duty: Vanguard , Reveal Trailer',\n",
       " 'url': 'https://youtu.be/OQ1CwPhE8KQ',\n",
       " 'user_id': UUID('4f8e6bde-7056-11ec-90e6-90ccdf07a52a')}"
      ]
     },
     "execution_count": 5,
     "metadata": {},
     "output_type": "execute_result"
    }
   ],
   "source": [
    "video_obj = dict(Video.objects.first())\n",
    "video_obj"
   ]
  },
  {
   "cell_type": "code",
   "execution_count": 16,
   "id": "3c741e3d",
   "metadata": {},
   "outputs": [],
   "source": [
    "class VideoIndexSchema(BaseModel):\n",
    "    objectID : str = Field(alias=\"host_id\")\n",
    "    title : Optional[str]\n",
    "    path : str = Field(alias=\"host_id\")\n",
    "        \n",
    "    @validator(\"path\")\n",
    "    def set_path(cls, v, values, **kwargs):\n",
    "        host_id = v\n",
    "        return f\"/videos/{host_id}\""
   ]
  },
  {
   "cell_type": "code",
   "execution_count": 17,
   "id": "77d4f281",
   "metadata": {},
   "outputs": [
    {
     "data": {
      "text/plain": [
       "{'objectID': 'OQ1CwPhE8KQ',\n",
       " 'title': ' Call of Duty: Vanguard , Reveal Trailer',\n",
       " 'path': '/videos/OQ1CwPhE8KQ'}"
      ]
     },
     "execution_count": 17,
     "metadata": {},
     "output_type": "execute_result"
    }
   ],
   "source": [
    "VideoIndexSchema(**video_obj).dict()"
   ]
  },
  {
   "cell_type": "code",
   "execution_count": 6,
   "id": "8851ab34",
   "metadata": {},
   "outputs": [
    {
     "data": {
      "text/plain": [
       "{'db_id': UUID('6be2ba23-7ba1-11ec-b5c0-088fc304d5ee'),\n",
       " 'user_id': UUID('4f8e6bde-7056-11ec-90e6-90ccdf07a52a'),\n",
       " 'updated': datetime.datetime(2022, 2, 17, 15, 22, 50, 737000),\n",
       " 'host_ids': ['Axmg1E4HrVE', 'Axmg1E4HrVE'],\n",
       " 'title': 'New Album 1'}"
      ]
     },
     "execution_count": 6,
     "metadata": {},
     "output_type": "execute_result"
    }
   ],
   "source": [
    "playlist_obj = dict(Playlist.objects.first())\n",
    "playlist_obj"
   ]
  },
  {
   "cell_type": "code",
   "execution_count": 20,
   "id": "1381aae0",
   "metadata": {},
   "outputs": [],
   "source": [
    "class PlaylistIndexSchema(BaseModel):\n",
    "    objectID : uuid.UUID = Field(alias=\"db_id\")\n",
    "    title : Optional[str]\n",
    "    path : str = Field(default = \"/\")\n",
    "    \n",
    "    @root_validator\n",
    "    def set_defaults(cls, values):\n",
    "        objectID = values.get(\"objectID\")\n",
    "        values['objectID'] = str(objectID)\n",
    "        values['path'] = f\"/playlists/{objectID}\"\n",
    "        return values"
   ]
  },
  {
   "cell_type": "code",
   "execution_count": 21,
   "id": "c01ee2c5",
   "metadata": {},
   "outputs": [
    {
     "data": {
      "text/plain": [
       "{'objectID': '6be2ba23-7ba1-11ec-b5c0-088fc304d5ee',\n",
       " 'title': 'New Album 1',\n",
       " 'path': '/playlists/6be2ba23-7ba1-11ec-b5c0-088fc304d5ee'}"
      ]
     },
     "execution_count": 21,
     "metadata": {},
     "output_type": "execute_result"
    }
   ],
   "source": [
    "PlaylistIndexSchema(**playlist_obj).dict()"
   ]
  },
  {
   "cell_type": "code",
   "execution_count": 28,
   "id": "257976e1",
   "metadata": {},
   "outputs": [
    {
     "data": {
      "text/plain": [
       "[{'objectID': 'OQ1CwPhE8KQ',\n",
       "  'title': ' Call of Duty: Vanguard , Reveal Trailer',\n",
       "  'path': '/videos/OQ1CwPhE8KQ'},\n",
       " {'objectID': 'cK4iAjzAoas',\n",
       "  'title': \"Assassin's Creed Origins Cinematic Trailer\",\n",
       "  'path': '/videos/cK4iAjzAoas'},\n",
       " {'objectID': 'eyDBCowbKJs',\n",
       "  'title': 'Call of Duty: Vanguard - Angry Review',\n",
       "  'path': '/videos/eyDBCowbKJs'},\n",
       " {'objectID': '4cJpiOPKH14',\n",
       "  'title': 'Star Wars Eclipse – Official Cinematic Reveal Trailer',\n",
       "  'path': '/videos/4cJpiOPKH14'},\n",
       " {'objectID': '8D9pPtOgIFQ',\n",
       "  'title': 'Achilles: Legends Untold - Official Story Trailer',\n",
       "  'path': '/videos/8D9pPtOgIFQ'},\n",
       " {'objectID': 'nOMIwsupy9k',\n",
       "  'title': 'Black Myth: Wukong - Official Unreal Engine 5 Gameplay Trailer',\n",
       "  'path': '/videos/nOMIwsupy9k'},\n",
       " {'objectID': 'UxDWGW7Z67I',\n",
       "  'title': 'Horizon Forbidden West - Story Trailer | PS5, PS4',\n",
       "  'path': '/videos/UxDWGW7Z67I'},\n",
       " {'objectID': '0GZdBPXuLR4',\n",
       "  'title': 'Exclusive ELDEN RING Gameplay – Exploring Castle Mourne',\n",
       "  'path': '/videos/0GZdBPXuLR4'},\n",
       " {'objectID': 'ihsRc27QVco',\n",
       "  'title': 'Battlefield 2042 - Angry Review',\n",
       "  'path': '/videos/ihsRc27QVco'},\n",
       " {'objectID': '1O6Qstncpnc',\n",
       "  'title': 'Hogwarts Legacy - Official Reveal Trailer | PS5 | Edit',\n",
       "  'path': '/videos/1O6Qstncpnc'}]"
      ]
     },
     "execution_count": 28,
     "metadata": {},
     "output_type": "execute_result"
    }
   ],
   "source": [
    "video_q = [dict(x) for x in Video.objects.all()]\n",
    "video_dataset = [VideoIndexSchema(**x).dict() for x in video_q]\n",
    "video_dataset"
   ]
  },
  {
   "cell_type": "code",
   "execution_count": 29,
   "id": "7d03e8f1",
   "metadata": {},
   "outputs": [
    {
     "data": {
      "text/plain": [
       "[{'objectID': '6be2ba23-7ba1-11ec-b5c0-088fc304d5ee',\n",
       "  'title': 'New Album 1',\n",
       "  'path': '/playlists/6be2ba23-7ba1-11ec-b5c0-088fc304d5ee'},\n",
       " {'objectID': '5cc2a152-7b9f-11ec-9136-088fc304d5ee',\n",
       "  'title': 'New Album',\n",
       "  'path': '/playlists/5cc2a152-7b9f-11ec-9136-088fc304d5ee'},\n",
       " {'objectID': '884180c1-7b78-11ec-92bd-088fc304d5ee',\n",
       "  'title': 'hello world',\n",
       "  'path': '/playlists/884180c1-7b78-11ec-92bd-088fc304d5ee'},\n",
       " {'objectID': '73010141-7b9f-11ec-a63e-088fc304d5ee',\n",
       "  'title': 'New Album',\n",
       "  'path': '/playlists/73010141-7b9f-11ec-a63e-088fc304d5ee'},\n",
       " {'objectID': '4b1a2bb2-7b78-11ec-b077-088fc304d5ee',\n",
       "  'title': 'hello world',\n",
       "  'path': '/playlists/4b1a2bb2-7b78-11ec-b077-088fc304d5ee'},\n",
       " {'objectID': '7f47d8c3-7b76-11ec-a3ef-088fc304d5ee',\n",
       "  'title': 'hello world',\n",
       "  'path': '/playlists/7f47d8c3-7b76-11ec-a3ef-088fc304d5ee'},\n",
       " {'objectID': '7d69f0cd-9005-11ec-ae06-90ccdf07a52a',\n",
       "  'title': 'New Playlist',\n",
       "  'path': '/playlists/7d69f0cd-9005-11ec-ae06-90ccdf07a52a'}]"
      ]
     },
     "execution_count": 29,
     "metadata": {},
     "output_type": "execute_result"
    }
   ],
   "source": [
    "playlist_q = [dict(x) for x in Playlist.objects.all()]\n",
    "playlist_dataset = [PlaylistIndexSchema(**x).dict() for x in playlist_q]\n",
    "playlist_dataset"
   ]
  },
  {
   "cell_type": "code",
   "execution_count": 30,
   "id": "e83bae1d",
   "metadata": {},
   "outputs": [
    {
     "data": {
      "text/plain": [
       "[{'objectID': 'OQ1CwPhE8KQ',\n",
       "  'title': ' Call of Duty: Vanguard , Reveal Trailer',\n",
       "  'path': '/videos/OQ1CwPhE8KQ'},\n",
       " {'objectID': 'cK4iAjzAoas',\n",
       "  'title': \"Assassin's Creed Origins Cinematic Trailer\",\n",
       "  'path': '/videos/cK4iAjzAoas'},\n",
       " {'objectID': 'eyDBCowbKJs',\n",
       "  'title': 'Call of Duty: Vanguard - Angry Review',\n",
       "  'path': '/videos/eyDBCowbKJs'},\n",
       " {'objectID': '4cJpiOPKH14',\n",
       "  'title': 'Star Wars Eclipse – Official Cinematic Reveal Trailer',\n",
       "  'path': '/videos/4cJpiOPKH14'},\n",
       " {'objectID': '8D9pPtOgIFQ',\n",
       "  'title': 'Achilles: Legends Untold - Official Story Trailer',\n",
       "  'path': '/videos/8D9pPtOgIFQ'},\n",
       " {'objectID': 'nOMIwsupy9k',\n",
       "  'title': 'Black Myth: Wukong - Official Unreal Engine 5 Gameplay Trailer',\n",
       "  'path': '/videos/nOMIwsupy9k'},\n",
       " {'objectID': 'UxDWGW7Z67I',\n",
       "  'title': 'Horizon Forbidden West - Story Trailer | PS5, PS4',\n",
       "  'path': '/videos/UxDWGW7Z67I'},\n",
       " {'objectID': '0GZdBPXuLR4',\n",
       "  'title': 'Exclusive ELDEN RING Gameplay – Exploring Castle Mourne',\n",
       "  'path': '/videos/0GZdBPXuLR4'},\n",
       " {'objectID': 'ihsRc27QVco',\n",
       "  'title': 'Battlefield 2042 - Angry Review',\n",
       "  'path': '/videos/ihsRc27QVco'},\n",
       " {'objectID': '1O6Qstncpnc',\n",
       "  'title': 'Hogwarts Legacy - Official Reveal Trailer | PS5 | Edit',\n",
       "  'path': '/videos/1O6Qstncpnc'},\n",
       " {'objectID': '6be2ba23-7ba1-11ec-b5c0-088fc304d5ee',\n",
       "  'title': 'New Album 1',\n",
       "  'path': '/playlists/6be2ba23-7ba1-11ec-b5c0-088fc304d5ee'},\n",
       " {'objectID': '5cc2a152-7b9f-11ec-9136-088fc304d5ee',\n",
       "  'title': 'New Album',\n",
       "  'path': '/playlists/5cc2a152-7b9f-11ec-9136-088fc304d5ee'},\n",
       " {'objectID': '884180c1-7b78-11ec-92bd-088fc304d5ee',\n",
       "  'title': 'hello world',\n",
       "  'path': '/playlists/884180c1-7b78-11ec-92bd-088fc304d5ee'},\n",
       " {'objectID': '73010141-7b9f-11ec-a63e-088fc304d5ee',\n",
       "  'title': 'New Album',\n",
       "  'path': '/playlists/73010141-7b9f-11ec-a63e-088fc304d5ee'},\n",
       " {'objectID': '4b1a2bb2-7b78-11ec-b077-088fc304d5ee',\n",
       "  'title': 'hello world',\n",
       "  'path': '/playlists/4b1a2bb2-7b78-11ec-b077-088fc304d5ee'},\n",
       " {'objectID': '7f47d8c3-7b76-11ec-a3ef-088fc304d5ee',\n",
       "  'title': 'hello world',\n",
       "  'path': '/playlists/7f47d8c3-7b76-11ec-a3ef-088fc304d5ee'},\n",
       " {'objectID': '7d69f0cd-9005-11ec-ae06-90ccdf07a52a',\n",
       "  'title': 'New Playlist',\n",
       "  'path': '/playlists/7d69f0cd-9005-11ec-ae06-90ccdf07a52a'}]"
      ]
     },
     "execution_count": 30,
     "metadata": {},
     "output_type": "execute_result"
    }
   ],
   "source": [
    "dataset = video_dataset + playlist_dataset\n",
    "dataset"
   ]
  },
  {
   "cell_type": "code",
   "execution_count": null,
   "id": "32b4164c",
   "metadata": {},
   "outputs": [],
   "source": []
  }
 ],
 "metadata": {
  "kernelspec": {
   "display_name": "Python 3 (ipykernel)",
   "language": "python",
   "name": "python3"
  },
  "language_info": {
   "codemirror_mode": {
    "name": "ipython",
    "version": 3
   },
   "file_extension": ".py",
   "mimetype": "text/x-python",
   "name": "python",
   "nbconvert_exporter": "python",
   "pygments_lexer": "ipython3",
   "version": "3.9.6"
  }
 },
 "nbformat": 4,
 "nbformat_minor": 5
}
