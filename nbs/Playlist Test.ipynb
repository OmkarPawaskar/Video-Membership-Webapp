{
 "cells": [
  {
   "cell_type": "code",
   "execution_count": 1,
   "id": "28dad8e7",
   "metadata": {},
   "outputs": [
    {
     "name": "stdout",
     "output_type": "stream",
     "text": [
      "E:\\PROJECTS\\Video Membership App\\Video-Membership-Webapp\n"
     ]
    }
   ],
   "source": [
    "%cd ..\n"
   ]
  },
  {
   "cell_type": "code",
   "execution_count": 2,
   "id": "42ad52fa",
   "metadata": {},
   "outputs": [],
   "source": [
    "from app import db\n",
    "import datetime\n",
    "from app.config import get_settings\n",
    "from app.playlists.models import Playlist\n",
    "from app.videos.models import Video\n",
    "from cassandra.cqlengine.management import sync_table"
   ]
  },
  {
   "cell_type": "code",
   "execution_count": 3,
   "id": "ca417a42",
   "metadata": {},
   "outputs": [],
   "source": [
    "session = db.get_session()\n",
    "settings = get_settings() \n",
    "allow_table_drop = False"
   ]
  },
  {
   "cell_type": "code",
   "execution_count": 4,
   "id": "cc846244",
   "metadata": {},
   "outputs": [],
   "source": [
    "if allow_table_drop:\n",
    "    session.execute(f\"DROP TABLE IF EXISTS {settings.keyspace}.playlist\")"
   ]
  },
  {
   "cell_type": "code",
   "execution_count": 5,
   "id": "65d4fdb0",
   "metadata": {},
   "outputs": [],
   "source": [
    "sync_table(Playlist)\n",
    "sync_table(Video)"
   ]
  },
  {
   "cell_type": "code",
   "execution_count": 6,
   "id": "a2042f35",
   "metadata": {},
   "outputs": [
    {
     "data": {
      "text/plain": [
       "Playlist(db_id=UUID('884180c1-7b78-11ec-92bd-088fc304d5ee'), user_id=None, updated=datetime.datetime(2022, 1, 22, 11, 43, 25, 843449), host_ids=[], title='hello world')"
      ]
     },
     "execution_count": 6,
     "metadata": {},
     "output_type": "execute_result"
    }
   ],
   "source": [
    "obj = Playlist.objects.create(title=\"hello world\")\n",
    "obj"
   ]
  },
  {
   "cell_type": "code",
   "execution_count": 7,
   "id": "b0c61279",
   "metadata": {},
   "outputs": [
    {
     "data": {
      "text/plain": [
       "Playlist(db_id=UUID('884180c1-7b78-11ec-92bd-088fc304d5ee'), user_id=None, updated=datetime.datetime(2022, 1, 22, 11, 43, 35, 518556), host_ids=[], title='hello world')"
      ]
     },
     "execution_count": 7,
     "metadata": {},
     "output_type": "execute_result"
    }
   ],
   "source": [
    "obj.update(updated = datetime.datetime.utcnow())\n",
    "obj.save()"
   ]
  },
  {
   "cell_type": "code",
   "execution_count": 8,
   "id": "36c1fd88",
   "metadata": {},
   "outputs": [
    {
     "data": {
      "text/plain": [
       "Playlist(db_id=UUID('884180c1-7b78-11ec-92bd-088fc304d5ee'), user_id=None, updated=datetime.datetime(2022, 1, 22, 11, 43, 35, 518556), host_ids=['new list'], title='hello world')"
      ]
     },
     "execution_count": 8,
     "metadata": {},
     "output_type": "execute_result"
    }
   ],
   "source": [
    "obj.update(host_ids = [\"new list\"])\n"
   ]
  },
  {
   "cell_type": "code",
   "execution_count": 9,
   "id": "4773345b",
   "metadata": {},
   "outputs": [
    {
     "data": {
      "text/plain": [
       "[Playlist(db_id=UUID('884180c1-7b78-11ec-92bd-088fc304d5ee'), user_id=None, updated=datetime.datetime(2022, 1, 22, 11, 43, 35, 518000), host_ids=['new list'], title='hello world'),\n",
       " Playlist(db_id=UUID('4b1a2bb2-7b78-11ec-b077-088fc304d5ee'), user_id=None, updated=datetime.datetime(2022, 1, 22, 11, 41, 52, 902000), host_ids=['new list'], title='hello world'),\n",
       " Playlist(db_id=UUID('7f47d8c3-7b76-11ec-a3ef-088fc304d5ee'), user_id=None, updated=datetime.datetime(2022, 1, 22, 11, 29, 59, 514000), host_ids=['new list'], title='hello world')]"
      ]
     },
     "execution_count": 9,
     "metadata": {},
     "output_type": "execute_result"
    }
   ],
   "source": [
    "list(Playlist.objects.all())"
   ]
  },
  {
   "cell_type": "code",
   "execution_count": 10,
   "id": "c614a41a",
   "metadata": {},
   "outputs": [
    {
     "data": {
      "text/plain": [
       "[Video(title = None, host_id = Axmg1E4HrVE, host_service = youtube),\n",
       " Video(title = Assassin's Creed Origins Cinematic Trailer, host_id = cK4iAjzAoas, host_service = youtube),\n",
       " Video(title = Black Myth: Wukong - Official Unreal Engine 5 Gameplay Trailer, host_id = nOMIwsupy9k, host_service = youtube),\n",
       " Video(title = None, host_id = ssrNcwxALS4, host_service = youtube),\n",
       " Video(title = None, host_id = 2MD4gTitmzw, host_service = youtube)]"
      ]
     },
     "execution_count": 10,
     "metadata": {},
     "output_type": "execute_result"
    }
   ],
   "source": [
    "host_ids = list(Video.objects.all().limit(5))\n",
    "host_ids"
   ]
  },
  {
   "cell_type": "code",
   "execution_count": 11,
   "id": "4756408c",
   "metadata": {},
   "outputs": [
    {
     "data": {
      "text/plain": [
       "[['Axmg1E4HrVE'],\n",
       " ['cK4iAjzAoas'],\n",
       " ['nOMIwsupy9k'],\n",
       " ['ssrNcwxALS4'],\n",
       " ['2MD4gTitmzw']]"
      ]
     },
     "execution_count": 11,
     "metadata": {},
     "output_type": "execute_result"
    }
   ],
   "source": [
    "host_ids = list(Video.objects.all().limit(5).values_list(\"host_id\"))\n",
    "host_ids\n"
   ]
  },
  {
   "cell_type": "code",
   "execution_count": 12,
   "id": "b3192f60",
   "metadata": {},
   "outputs": [
    {
     "data": {
      "text/plain": [
       "['Axmg1E4HrVE', 'cK4iAjzAoas', 'nOMIwsupy9k', 'ssrNcwxALS4', '2MD4gTitmzw']"
      ]
     },
     "execution_count": 12,
     "metadata": {},
     "output_type": "execute_result"
    }
   ],
   "source": [
    "host_ids = list(Video.objects.all().limit(5).values_list(\"host_id\", flat=True))\n",
    "host_ids"
   ]
  },
  {
   "cell_type": "code",
   "execution_count": 13,
   "id": "510e4d69",
   "metadata": {},
   "outputs": [
    {
     "data": {
      "text/plain": [
       "True"
      ]
     },
     "execution_count": 13,
     "metadata": {},
     "output_type": "execute_result"
    }
   ],
   "source": [
    "obj.add_host_ids(host_ids=host_ids[:3], replace_all=True)\n"
   ]
  },
  {
   "cell_type": "code",
   "execution_count": 14,
   "id": "96c00ed5",
   "metadata": {},
   "outputs": [
    {
     "data": {
      "text/plain": [
       "['Axmg1E4HrVE', 'cK4iAjzAoas', 'nOMIwsupy9k']"
      ]
     },
     "execution_count": 14,
     "metadata": {},
     "output_type": "execute_result"
    }
   ],
   "source": [
    "obj.host_ids"
   ]
  },
  {
   "cell_type": "code",
   "execution_count": 15,
   "id": "bc1064e3",
   "metadata": {},
   "outputs": [
    {
     "data": {
      "text/plain": [
       "[Video(title = None, host_id = Axmg1E4HrVE, host_service = youtube),\n",
       " Video(title = Assassin's Creed Origins Cinematic Trailer, host_id = cK4iAjzAoas, host_service = youtube),\n",
       " Video(title = Black Myth: Wukong - Official Unreal Engine 5 Gameplay Trailer, host_id = nOMIwsupy9k, host_service = youtube)]"
      ]
     },
     "execution_count": 15,
     "metadata": {},
     "output_type": "execute_result"
    }
   ],
   "source": [
    "obj.get_videos()"
   ]
  },
  {
   "cell_type": "code",
   "execution_count": null,
   "id": "d52a247d",
   "metadata": {},
   "outputs": [],
   "source": []
  }
 ],
 "metadata": {
  "kernelspec": {
   "display_name": "Python 3 (ipykernel)",
   "language": "python",
   "name": "python3"
  },
  "language_info": {
   "codemirror_mode": {
    "name": "ipython",
    "version": 3
   },
   "file_extension": ".py",
   "mimetype": "text/x-python",
   "name": "python",
   "nbconvert_exporter": "python",
   "pygments_lexer": "ipython3",
   "version": "3.9.6"
  }
 },
 "nbformat": 4,
 "nbformat_minor": 5
}
